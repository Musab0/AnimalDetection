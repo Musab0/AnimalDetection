{
  "nbformat": 4,
  "nbformat_minor": 0,
  "metadata": {
    "colab": {
      "name": "Animal-Detection.ipynb",
      "provenance": [],
      "collapsed_sections": [],
      "authorship_tag": "ABX9TyODbDwyOx8CYyiOY5PUlILp",
      "include_colab_link": true
    },
    "kernelspec": {
      "name": "python3",
      "display_name": "Python 3"
    },
    "language_info": {
      "name": "python"
    }
  },
  "cells": [
    {
      "cell_type": "markdown",
      "metadata": {
        "id": "view-in-github",
        "colab_type": "text"
      },
      "source": [
        "<a href=\"https://colab.research.google.com/github/Musab0/AnimalDetection/blob/main/Animal_Detection.ipynb\" target=\"_parent\"><img src=\"https://colab.research.google.com/assets/colab-badge.svg\" alt=\"Open In Colab\"/></a>"
      ]
    },
    {
      "cell_type": "markdown",
      "metadata": {
        "id": "TZTUBrGHmj3o"
      },
      "source": [
        "Concepts: \n",
        "\n",
        "\n",
        "\n",
        "- Image Augmentation \n",
        "- Overfitting - DropOut \n",
        "- Unbalanced Dataset \n"
      ]
    },
    {
      "cell_type": "code",
      "metadata": {
        "id": "_Le9DJ_JlLx8"
      },
      "source": [
        ""
      ],
      "execution_count": null,
      "outputs": []
    }
  ]
}